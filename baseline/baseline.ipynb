{
 "cells": [
  {
   "cell_type": "code",
   "execution_count": 1,
   "metadata": {},
   "outputs": [],
   "source": [
    "# imports\n",
    "import string\n",
    "import numpy as np\n",
    "\n",
    "import sys\n",
    "sys.path.append(\"..\")\n",
    "import utils\n",
    "\n",
    "from sklearn.naive_bayes import GaussianNB\n",
    "from sklearn.metrics import accuracy_score\n",
    "from sklearn.decomposition import PCA"
   ]
  },
  {
   "cell_type": "code",
   "execution_count": 2,
   "metadata": {},
   "outputs": [],
   "source": [
    "# stolen from notebook9\n",
    "filename = \"glove.6B.50d.txt\"\n",
    "\n",
    "embeddings = {}\n",
    "with open(filename,'r', encoding='utf-8') as file:\n",
    "    for line in file:\n",
    "        elements = line.split();\n",
    "        word = elements[0];\n",
    "        vector = np.asarray(elements[1:],\"float32\")\n",
    "        embeddings[word] = vector"
   ]
  },
  {
   "cell_type": "code",
   "execution_count": 37,
   "metadata": {},
   "outputs": [],
   "source": [
    "# functions\n",
    "def preprocess(text, punctuation=False):\n",
    "    \"\"\"\n",
    "    Parameters:\n",
    "    text (string): raw text from data\n",
    "\n",
    "    Returns:\n",
    "    string: string with no punctuation and\n",
    "            only contains words in embeddings\n",
    "    \"\"\"\n",
    "    if punctuation:\n",
    "        text_ = \"\"\n",
    "        for char in text:\n",
    "            if char not in string.punctuation:\n",
    "                text_ += char\n",
    "        text = text_\n",
    "    \n",
    "    text_ = \"\"\n",
    "    for word in text.split():\n",
    "        if word in embeddings:\n",
    "             text_ += word.lower() + \" \"\n",
    "    return text_\n",
    "\n",
    "def mean_emb(text):\n",
    "    \"\"\"\n",
    "    Parameters:\n",
    "    text (string): raw text from data\n",
    "    \n",
    "    Returns:\n",
    "    numpy.ndarray(50,): mean embedding of text\n",
    "    \"\"\"\n",
    "    pre = preprocess(text).split()\n",
    "    sum_emb = np.zeros(50,)\n",
    "    for word in pre:\n",
    "        sum_emb += embeddings[word]\n",
    "    mean_emb = sum_emb/50\n",
    "    \n",
    "    return mean_emb\n",
    "\n",
    "def glove_accuracy(X_train, X_test, y_train, y_test):\n",
    "    train_embeddings = np.array([mean_emb(text) for text in X_train])\n",
    "    test_embeddings = np.array([mean_emb(text) for text in X_test])\n",
    "\n",
    "    clf = GaussianNB().fit(train_embeddings, y_train)\n",
    "\n",
    "    predictions = clf.predict(test_embeddings)\n",
    "    accuracy = accuracy_score(y_test, predictions)\n",
    "\n",
    "    return accuracy"
   ]
  },
  {
   "cell_type": "code",
   "execution_count": 38,
   "metadata": {},
   "outputs": [],
   "source": [
    "## Spam data"
   ]
  },
  {
   "cell_type": "code",
   "execution_count": 39,
   "metadata": {},
   "outputs": [
    {
     "output_type": "execute_result",
     "data": {
      "text/plain": "0.9336322869955157"
     },
     "metadata": {},
     "execution_count": 39
    }
   ],
   "source": [
    "spam_train, spam_test = utils.load_data('spam')\n",
    "glove_accuracy(spam_train['texts'], spam_test['texts'], spam_train['labels'], spam_test['labels'])"
   ]
  },
  {
   "cell_type": "code",
   "execution_count": 33,
   "metadata": {},
   "outputs": [
    {
     "output_type": "execute_result",
     "data": {
      "text/plain": "0.8372368421052632"
     },
     "metadata": {},
     "execution_count": 33
    }
   ],
   "source": [
    "news_train, news_test = utils.load_data('news')\n",
    "glove_accuracy(news_train['texts'], news_test['texts'], news_train['labels'], news_test['labels'])"
   ]
  }
 ],
 "metadata": {
  "language_info": {
   "name": "python",
   "codemirror_mode": {
    "name": "ipython",
    "version": 3
   },
   "version": "3.8.2-final"
  },
  "orig_nbformat": 2,
  "file_extension": ".py",
  "mimetype": "text/x-python",
  "name": "python",
  "npconvert_exporter": "python",
  "pygments_lexer": "ipython3",
  "version": 3,
  "kernelspec": {
   "name": "python38264bit88b66cf7d91d4746a5b93fe63573396a",
   "display_name": "Python 3.8.2 64-bit"
  }
 },
 "nbformat": 4,
 "nbformat_minor": 2
}