{
 "cells": [
  {
   "cell_type": "code",
   "execution_count": 108,
   "metadata": {},
   "outputs": [],
   "source": [
    "# imports\n",
    "import string\n",
    "import numpy as np\n",
    "import matplotlib.pyplot as plt\n",
    "from scipy.linalg import eigh\n",
    "import matplotlib.cm as cm\n",
    "\n",
    "import sys\n",
    "sys.path.append(\"..\")\n",
    "import utils\n",
    "\n",
    "from sklearn.naive_bayes import GaussianNB\n",
    "from sklearn.metrics import accuracy_score\n",
    "from sklearn.decomposition import PCA"
   ]
  },
  {
   "cell_type": "code",
   "execution_count": 36,
   "metadata": {},
   "outputs": [],
   "source": [
    "# stolen from notebook9\n",
    "filename = \"glove.6B.50d.txt\"\n",
    "\n",
    "embeddings = {}\n",
    "with open(filename,'r', encoding='utf-8') as file:\n",
    "    for line in file:\n",
    "        elements = line.split();\n",
    "        word = elements[0];\n",
    "        vector = np.asarray(elements[1:],\"float32\")\n",
    "        embeddings[word] = vector"
   ]
  },
  {
   "cell_type": "code",
   "execution_count": 37,
   "metadata": {},
   "outputs": [],
   "source": [
    "# functions\n",
    "def preprocess(text, punctuation=False):\n",
    "    \"\"\"\n",
    "    Parameters:\n",
    "    text (string): raw text from data\n",
    "\n",
    "    Returns:\n",
    "    string: string with no punctuation and\n",
    "            only contains words in embeddings\n",
    "    \"\"\"\n",
    "    if punctuation:\n",
    "        text_ = \"\"\n",
    "        for char in text:\n",
    "            if char not in string.punctuation:\n",
    "                text_ += char\n",
    "        text = text_\n",
    "    \n",
    "    text_ = \"\"\n",
    "    for word in text.split():\n",
    "        if word in embeddings:\n",
    "             text_ += word.lower() + \" \"\n",
    "    return text_\n",
    "\n",
    "def mean_emb(text):\n",
    "    \"\"\"\n",
    "    Parameters:\n",
    "    text (string): raw text from data\n",
    "    \n",
    "    Returns:\n",
    "    numpy.ndarray(50,): mean embedding of text\n",
    "    \"\"\"\n",
    "    pre = preprocess(text).split()\n",
    "    sum_emb = np.zeros(50,)\n",
    "    for word in pre:\n",
    "        sum_emb += embeddings[word]\n",
    "    mean_emb = sum_emb/50\n",
    "    \n",
    "    return mean_emb\n",
    "\n",
    "def glove_accuracy(X_train, X_test, y_train, y_test):\n",
    "    train_embeddings = np.array([mean_emb(text) for text in X_train])\n",
    "    test_embeddings = np.array([mean_emb(text) for text in X_test])\n",
    "\n",
    "    clf = GaussianNB().fit(train_embeddings, y_train)\n",
    "\n",
    "    predictions = clf.predict(test_embeddings)\n",
    "    accuracy = accuracy_score(y_test, predictions)\n",
    "\n",
    "    return accuracy"
   ]
  },
  {
   "cell_type": "code",
   "execution_count": 26,
   "metadata": {},
   "outputs": [],
   "source": [
    "## Spam data"
   ]
  },
  {
   "cell_type": "code",
   "execution_count": 38,
   "metadata": {},
   "outputs": [
    {
     "data": {
      "text/plain": [
       "0.9336322869955157"
      ]
     },
     "execution_count": 38,
     "metadata": {},
     "output_type": "execute_result"
    }
   ],
   "source": [
    "spam_train, spam_test = utils.load_data('spam')\n",
    "glove_accuracy(spam_train['texts'], spam_test['texts'], spam_train['labels'], spam_test['labels'])"
   ]
  },
  {
   "cell_type": "code",
   "execution_count": 47,
   "metadata": {},
   "outputs": [
    {
     "data": {
      "text/plain": [
       "0.84"
      ]
     },
     "execution_count": 47,
     "metadata": {},
     "output_type": "execute_result"
    }
   ],
   "source": [
    "news_train, news_test = utils.load_data('news')\n",
    "glove_accuracy(news_train['texts'], news_test['texts'], news_train['labels'], news_test['labels'])"
   ]
  },
  {
   "cell_type": "markdown",
   "metadata": {},
   "source": [
    "## PCA\n",
    "\n",
    "## sms"
   ]
  },
  {
   "cell_type": "code",
   "execution_count": 109,
   "metadata": {},
   "outputs": [],
   "source": [
    "def pca(X_train):\n",
    "    vectors = np.zeros((50, len(X_train)))\n",
    "    for i in range(len(X_train)):\n",
    "        doc = X_train[i]\n",
    "        vectors[:,i] = mean_emb(doc)\n",
    "    \n",
    "    #pca on feature vectors for selected words\n",
    "    mean_vector = np.mean(vectors,axis=1)\n",
    "    data = vectors - mean_vector[:,None]\n",
    "    #compute the covariance matrix\n",
    "    S = np.cov(data)\n",
    "    #obtain eigenvectors and eigenvalues\n",
    "    eigenValues, eigenVectors = eigh(S)\n",
    "    #sort according to size of eigenvalues\n",
    "    sort_idx = np.argsort(eigenValues)[::-1]\n",
    "    eigenValues = eigenValues[sort_idx]\n",
    "    eigenVectors = eigenVectors[:, sort_idx]\n",
    "    return eigenValues, eigenVectors, data"
   ]
  },
  {
   "cell_type": "code",
   "execution_count": 115,
   "metadata": {},
   "outputs": [],
   "source": [
    "def plot_pca(X_train, y_train, PC_range, num_texts):\n",
    "    eigenValues, eigenVectors, data = pca(X_train)\n",
    "    X_proj = eigenVectors[:,PC_range[0]:PC_range[1]].T@data    \n",
    "    #plot for the selected two principal components\n",
    "    n_label = len(np.unique(y_train))\n",
    "    colors = cm.rainbow(np.linspace(0, 1, n_label))\n",
    "    class_idx = y_train\n",
    "    if n_label == 2:\n",
    "        considered_classes = ['not-spam','spam']\n",
    "    else:\n",
    "        considered_classes = ['World','sports','Business', 'Sci/Tec']\n",
    "    cdict = {i: colors[i] for i in range(n_label)}\n",
    "    label_dict = {i: considered_classes[i] for i in range(n_label)}\n",
    "    for i in range(n_label):\n",
    "        indices = np.where(class_idx == i)\n",
    "        plt.scatter(X_proj[0,indices], X_proj[1,indices],\n",
    "                 color=cdict[i], label=label_dict[i],s=2)\n",
    "    plt.legend(loc='best')\n",
    "    plt.xlabel('Principal Component axis 1');\n",
    "    plt.ylabel('Principal Component axis 2');\n",
    "    plt.show()"
   ]
  },
  {
   "cell_type": "code",
   "execution_count": 116,
   "metadata": {
    "scrolled": true
   },
   "outputs": [
    {
     "data": {
      "image/png": "[encoded data removed]",
      "text/plain": [
       "<Figure size 432x288 with 1 Axes>"
      ]
     },
     "metadata": {
      "needs_background": "light"
     },
     "output_type": "display_data"
    }
   ],
   "source": [
    "plot_pca(spam_train['texts'], spam_train['labels'], [0,2], None)"
   ]
  },
  {
   "cell_type": "code",
   "execution_count": 280,
   "metadata": {
    "scrolled": true
   },
   "outputs": [
    {
     "data": {
      "image/png": "[encoded data removed]",
      "text/plain": [
       "<Figure size 864x216 with 2 Axes>"
      ]
     },
     "metadata": {
      "needs_background": "light"
     },
     "output_type": "display_data"
    }
   ],
   "source": [
    "# explained variance\n",
    "# week5 NB\n",
    "eigenValues, eigenVectors, _ = pca(spam_train['texts'])\n",
    "\n",
    "summ = eigenValues.sum()\n",
    "cumsum = 0\n",
    "total_var_explained = np.zeros(50)\n",
    "relative_var = np.zeros(50)\n",
    "for i in range(50):    \n",
    "    relative_var[i] = eigenValues[i]/np.size(eigenValues)\n",
    "    cumsum += eigenValues[i]\n",
    "    total_var_explained[i]=(cumsum/summ)\n",
    "    \n",
    "fig = plt.figure(figsize=(12,3))\n",
    "plt.subplot(121)\n",
    "# this might not be calculated correctly (line 10)\n",
    "plt.plot(relative_var)\n",
    "plt.xlabel(\"Principal component\")\n",
    "plt.ylabel(\"Proportion of Variance Explained\")\n",
    "plt.title('variance explained');\n",
    "plt.subplot(122) \n",
    "plt.plot(total_var_explained)\n",
    "plt.xlabel(\"Principal component\")\n",
    "plt.ylabel(\"% of variance explained\")\n",
    "plt.title('Cumulative variance explained');"
   ]
  },
  {
   "cell_type": "markdown",
   "metadata": {},
   "source": [
    "Maybe add a vertical line at x=2"
   ]
  },
  {
   "cell_type": "code",
   "execution_count": 248,
   "metadata": {},
   "outputs": [
    {
     "data": {
      "text/plain": [
       "array([0.84271529, 0.87993501])"
      ]
     },
     "execution_count": 248,
     "metadata": {},
     "output_type": "execute_result"
    }
   ],
   "source": [
    "total_var_explained[0:2]"
   ]
  },
  {
   "cell_type": "markdown",
   "metadata": {},
   "source": [
    "### News"
   ]
  },
  {
   "cell_type": "markdown",
   "metadata": {},
   "source": [
    "Currently it just shows the first 5000 articles, we could maybe change it to be 5000 random. np.random.choice()\n",
    "\n",
    "Or we could just say that the first 5k are representative of the population"
   ]
  },
  {
   "cell_type": "code",
   "execution_count": null,
   "metadata": {},
   "outputs": [],
   "source": [
    "plot_pca(news_train['texts'], news_train['labels'], [0,2], 5000)"
   ]
  },
  {
   "cell_type": "code",
   "execution_count": 282,
   "metadata": {
    "scrolled": true
   },
   "outputs": [
    {
     "data": {
      "image/png": "[encoded data removed]",
      "text/plain": [
       "<Figure size 720x216 with 2 Axes>"
      ]
     },
     "metadata": {
      "needs_background": "light"
     },
     "output_type": "display_data"
    }
   ],
   "source": [
    "# explained variance\n",
    "eigenValues, eigenVectors, _ = pca(news_train['texts'])\n",
    "\n",
    "summ = eigenValues.sum()\n",
    "cumsum = 0\n",
    "total_var_explained = np.zeros(50)\n",
    "relative_var = np.zeros(50)\n",
    "for i in range(50):    \n",
    "    relative_var[i] = eigenValues[i]/np.size(eigenValues)\n",
    "    cumsum += eigenValues[i]\n",
    "    total_var_explained[i]=(cumsum/summ)\n",
    "    \n",
    "fig = plt.figure(figsize=(10,3))\n",
    "plt.subplot(121)    \n",
    "plt.plot(relative_var)\n",
    "plt.xlabel(\"Principal component\")\n",
    "plt.ylabel(\"Proportion of Variance Explained\")\n",
    "plt.title('variance explained');\n",
    "plt.subplot(122) \n",
    "plt.plot(total_var_explained)\n",
    "plt.xlabel(\"Principal component\")\n",
    "plt.title('Cumulative variance explained');"
   ]
  },
  {
   "cell_type": "markdown",
   "metadata": {},
   "source": [
    "similar news"
   ]
  },
  {
   "cell_type": "code",
   "execution_count": 30,
   "metadata": {},
   "outputs": [],
   "source": [
    "def load_similar_news(filename):\n",
    "    new_news = {}\n",
    "    texts = []\n",
    "    labels = []\n",
    "    with open(filename,'r', encoding='utf-8') as file:\n",
    "        for line in file:\n",
    "            elements = line.split();\n",
    "            labels.append(int(elements[0]))\n",
    "            text = (\" \".join(elements[1:]))\n",
    "            texts.append(text)\n",
    "    new_news['texts'] = np.asarray(texts)\n",
    "    new_news['labels'] = np.asarray(labels)\n",
    "    return new_news\n",
    "\n",
    "new_news = load_similar_news(\"../similar_news.txt\")"
   ]
  },
  {
   "cell_type": "code",
   "execution_count": 31,
   "metadata": {},
   "outputs": [
    {
     "data": {
      "text/plain": [
       "{'texts': array(['The rise of self-driving taxis in China comes at a time when people are nervous about taking public transport.',\n",
       "        'A woman who accuses Democratic White House candidate Joe Biden of sexually assaulting her 27 years ago has called on him to quit the presidential race.',\n",
       "        'Germany\\'s parliament has passed a law banning so-called \"gay conversion therapy\" for young people nationwide.',\n",
       "        \"The UK's most modern nuclear power station could be partially powered down as the National Grid looks to manage lower energy demands.\",\n",
       "        \"World Athletics says Nike's controversial Vaporfly range will not be banned but there will be tighter regulations around high-tech running shoes.\",\n",
       "        'Formula 1 chairman Chase Carey has admitted that the sport\\'s owners are preparing for \"the remote possibility of no racing in 2020\".',\n",
       "        \"Anthony Joshua's next bout could take place in a Roman amphitheatre in Croatia, says the manager of mandatory challenger Kubrat Pulev.\",\n",
       "        \"I want to be remembered for my sporting achievements. Real heroes are others, those who have suffered in their soul, in their heart, in their spirit, in their mind, for their loved ones. Those are the real heroes. I'm just a cyclist.\",\n",
       "        'A further 3.2 million Americans sought unemployment benefits last week as the economic toll from the coronavirus pandemic continued to mount.',\n",
       "        'Every passenger has to wear a face mask and is offered hand sanitiser. Some seats are left empty, there is no food served or in-flight magazines and aircraft are deep-cleaned every night.',\n",
       "        'Facebook and Google have said they will let employees continue working from home for the rest of the year. The tech giants have announced plans to reopen their offices soon but are allowing more home working flexibility.',\n",
       "        \"European scientists think they can now describe with confidence what's driving the drift of the North Magnetic Pole.\",\n",
       "        'Facebook has apologised after its latest software update crashed rival apps on iPhones and iPads.',\n",
       "        'Astronomers have a new candidate in their search for the nearest black hole to Earth.'],\n",
       "       dtype='<U233'),\n",
       " 'labels': array([0, 0, 0, 0, 1, 1, 1, 1, 2, 2, 2, 3, 3, 3])}"
      ]
     },
     "execution_count": 31,
     "metadata": {},
     "output_type": "execute_result"
    }
   ],
   "source": [
    "new_news"
   ]
  },
  {
   "cell_type": "code",
   "execution_count": null,
   "metadata": {},
   "outputs": [],
   "source": []
  }
 ],
 "metadata": {
  "file_extension": ".py",
  "kernelspec": {
   "display_name": "Python 3",
   "language": "python",
   "name": "python3"
  },
  "language_info": {
   "codemirror_mode": {
    "name": "ipython",
    "version": 3
   },
   "file_extension": ".py",
   "mimetype": "text/x-python",
   "name": "python",
   "nbconvert_exporter": "python",
   "pygments_lexer": "ipython3",
   "version": "3.7.6"
  },
  "mimetype": "text/x-python",
  "name": "python",
  "npconvert_exporter": "python",
  "pygments_lexer": "ipython3",
  "version": 3
 },
 "nbformat": 4,
 "nbformat_minor": 2
}
