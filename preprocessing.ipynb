{
 "cells": [
  {
   "cell_type": "code",
   "execution_count": 128,
   "metadata": {},
   "outputs": [],
   "source": [
    "import numpy as np\n",
    "from nltk.corpus import stopwords\n",
    "from sklearn.feature_extraction.text import CountVectorizer\n",
    "from sklearn.feature_extraction.text import TfidfVectorizer\n",
    "stopwords = set(stopwords.words('english'))\n",
    "import re"
   ]
  },
  {
   "cell_type": "code",
   "execution_count": 2,
   "metadata": {},
   "outputs": [],
   "source": [
    "spam_data = np.load('spam_data.npz')\n",
    "spam_train, spam_test = {}, {}\n",
    "spam_train['texts'], spam_train['labels'] = spam_data['train_texts'], spam_data['train_labels']\n",
    "spam_test['texts'], spam_test['labels'] = spam_data['test_texts'], spam_data['test_labels']"
   ]
  },
  {
   "cell_type": "code",
   "execution_count": 13,
   "metadata": {},
   "outputs": [],
   "source": [
    "news_data = np.load('news_data.npz')\n",
    "news_train, news_test = {}, {}\n",
    "news_train['texts'], news_train['labels'] = news_data['train_texts'], news_data['train_labels']\n",
    "news_test['texts'], news_test['labels'] = news_data['test_texts'], news_data['test_labels']"
   ]
  },
  {
   "cell_type": "code",
   "execution_count": 130,
   "metadata": {},
   "outputs": [],
   "source": [
    "def preprocess(raw_corpus):\n",
    "    preprocessed_texts = []\n",
    "    for text in raw_corpus:\n",
    "        text = re.sub('[^A-Za-z\\s]+', '', text)\n",
    "        no_stopwords = []\n",
    "        for word in text.split():\n",
    "            if word not in stopwords:\n",
    "                no_stopwords.append(word)\n",
    "        text = \" \".join(no_stopwords)\n",
    "        preprocessed_texts.append(text)\n",
    "    return preprocessed_texts\n",
    "\n",
    "def build_vocabulary(raw_corpus):\n",
    "    corpus = preprocess(raw_corpus)\n",
    "    vocab = []\n",
    "    for text in texts:\n",
    "        for word in text.split():\n",
    "            vocab.append(word)\n",
    "    vocab = sorted(set(vocab))\n",
    "    return vocab\n",
    "\n",
    "def pca"
   ]
  },
  {
   "cell_type": "code",
   "execution_count": 132,
   "metadata": {},
   "outputs": [],
   "source": [
    "vectorizer = CountVectorizer()\n",
    "spam_corpus = preprocess(spam_train['texts'])\n",
    "X = vectorizer.fit_transform(spam_corpus)"
   ]
  },
  {
   "cell_type": "code",
   "execution_count": 137,
   "metadata": {},
   "outputs": [
    {
     "output_type": "execute_result",
     "data": {
      "text/plain": "<bound method _VectorizerMixin.get_stop_words of CountVectorizer(analyzer='word', binary=False, decode_error='strict',\n                dtype=<class 'numpy.int64'>, encoding='utf-8', input='content',\n                lowercase=True, max_df=1.0, max_features=None, min_df=1,\n                ngram_range=(1, 1), preprocessor=None, stop_words=None,\n                strip_accents=None, token_pattern='(?u)\\\\b\\\\w\\\\w+\\\\b',\n                tokenizer=None, vocabulary=None)>"
     },
     "metadata": {},
     "execution_count": 137
    }
   ],
   "source": [
    "vectorizer.get_stop_words "
   ]
  }
 ],
 "metadata": {
  "language_info": {
   "codemirror_mode": {
    "name": "ipython",
    "version": 3
   },
   "file_extension": ".py",
   "mimetype": "text/x-python",
   "name": "python",
   "nbconvert_exporter": "python",
   "pygments_lexer": "ipython3",
   "version": "3.8.2-final"
  },
  "orig_nbformat": 2,
  "kernelspec": {
   "name": "python38264bit88b66cf7d91d4746a5b93fe63573396a",
   "display_name": "Python 3.8.2 64-bit"
  }
 },
 "nbformat": 4,
 "nbformat_minor": 2
}